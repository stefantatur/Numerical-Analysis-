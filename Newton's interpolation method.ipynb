{
 "cells": [
  {
   "cell_type": "markdown",
   "id": "24ec43a0-361c-41bf-a5bb-9440eb18a413",
   "metadata": {},
   "source": [
    "## Интерполяционный метод Ньютона\n",
    "### Работу выполнил: Татур Стефан"
   ]
  },
  {
   "cell_type": "code",
   "execution_count": 4,
   "id": "7350fde8-f188-4f98-b4f2-f603d3b28eba",
   "metadata": {},
   "outputs": [],
   "source": [
    "import numpy as np\n",
    "import matplotlib.pyplot as plt"
   ]
  },
  {
   "cell_type": "code",
   "execution_count": 20,
   "id": "7b27108c-c0e2-46da-aaf6-93321ba90447",
   "metadata": {},
   "outputs": [
    {
     "name": "stdout",
     "output_type": "stream",
     "text": [
      "[0.224 1.122 2.917 2.020 0.673]\n"
     ]
    }
   ],
   "source": [
    "# Заданные в условии точки\n",
    "\n",
    "x = np.array([0.5,2.5,6.5,4.5,1.5])\n",
    "for i in range(len(x)):\n",
    "    x[i] = x[i]*np.pi/7\n",
    "\n",
    "print(np.array2string(x, formatter={'float_kind': lambda x: f'{x:.3f}'}))"
   ]
  },
  {
   "cell_type": "code",
   "execution_count": 24,
   "id": "f91b7d67-8ec8-443f-81fd-e4f8f6a66218",
   "metadata": {},
   "outputs": [],
   "source": [
    "def f(x): # just a values of the function\n",
    "    return(np.sqrt(x) * np.sin(x) + 1)"
   ]
  },
  {
   "cell_type": "code",
   "execution_count": 28,
   "id": "277d5735-b734-4708-a15d-c8754054fe24",
   "metadata": {},
   "outputs": [
    {
     "name": "stdout",
     "output_type": "stream",
     "text": [
      "[1.105 1.954 1.380 2.280 1.512]\n"
     ]
    }
   ],
   "source": [
    "y = f(x)\n",
    "print(np.array2string(y, formatter={'float_kind': lambda x: f'{x:.3f}'}))"
   ]
  },
  {
   "cell_type": "code",
   "execution_count": 36,
   "id": "52f63abb-2c34-4ab6-87d3-4b4aa308195b",
   "metadata": {},
   "outputs": [
    {
     "name": "stdout",
     "output_type": "stream",
     "text": [
      "x = 0.2244\t y_predict = 1.1054\t y = 1.105410\n",
      "x = 1.1220\t y_predict = 1.9543\t y = 1.954346\n",
      "x = 2.9172\t y_predict = 1.3801\t y = 1.380061\n",
      "x = 2.0196\t y_predict = 2.2804\t y = 2.280389\n",
      "x = 0.6732\t y_predict = 1.5116\t y = 1.511565\n"
     ]
    }
   ],
   "source": [
    "def divided_differences(x_values, y_values, k):\n",
    "    result = 0\n",
    "    for j in range(k + 1):\n",
    "        mul = 1\n",
    "        for i in range(k + 1):\n",
    "            if i != j:\n",
    "                mul *= x_values[j] - x_values[i]\n",
    "        result += y_values[j]/mul\n",
    "    return result\n",
    "\n",
    "\n",
    "def create_Newton_polynomial(x_values, y_values):\n",
    "    div_diff = []\n",
    "    for i in range(1, len(x_values)):\n",
    "        div_diff.append(divided_differences(x_values, y_values, i))\n",
    "    def newton_polynomial(x):\n",
    "        result = y_values[0]\n",
    "        for k in range(1, len(y_values)):\n",
    "            mul = 1\n",
    "            for j in range(k):\n",
    "                mul *= (x-x_values[j])\n",
    "            result += div_diff[k-1]*mul\n",
    "        return result\n",
    "    return newton_polynomial\n",
    "\n",
    "new_pol = create_Newton_polynomial(x, y)\n",
    "\n",
    "for i in x:\n",
    "    print(\"x = {:.4f}\\t y_predict = {:.4f}\\t y = {:4f}\".format(i, new_pol(i),y[x.tolist().index(i)]))"
   ]
  },
  {
   "cell_type": "markdown",
   "id": "46f18d27-97c9-4021-8b9c-2be421c10f85",
   "metadata": {},
   "source": [
    "## Визуализация"
   ]
  },
  {
   "cell_type": "code",
   "execution_count": 43,
   "id": "98687e86-18b1-4193-9822-1d35691d25f5",
   "metadata": {},
   "outputs": [],
   "source": [
    "def L1():\n",
    "    return divided_differences(x,y,0)\n",
    "def L2(j):\n",
    "    return divided_differences(x,y,0) + divided_differences(x,y,1)*(j-x[0])\n",
    "\n",
    "def L3(j):\n",
    "    return divided_differences(x,y,0) + divided_differences(x,y,1)*(j-x[0]) + divided_differences(x,y,2)*(j-x[0])*(j-x[1])\n",
    "def L4(j):\n",
    "    return divided_differences(x,y,0) + divided_differences(x,y,1)*(j-x[0]) + divided_differences(x,y,2)*(j-x[0])*(j-x[1]) + divided_differences(x,y,3)*(j-x[0])*(j-x[1])*(j-x[2]) \n",
    "def L5(j):\n",
    "    return divided_differences(x,y,0) + divided_differences(x,y,1)*(j-x[0]) + divided_differences(x,y,2)*(j-x[0])*(j-x[1]) + divided_differences(x,y,3)*(j-x[0])*(j-x[1])*(j-x[2]) + divided_differences(x,y,4)*(j-x[0])*(j-x[1])*(j-x[2])*(j-x[3])\n"
   ]
  },
  {
   "cell_type": "code",
   "execution_count": 45,
   "id": "9fa32991-bfbd-4aa7-b8a0-c3027ada9486",
   "metadata": {},
   "outputs": [
    {
     "ename": "NameError",
     "evalue": "name 'x1' is not defined",
     "output_type": "error",
     "traceback": [
      "\u001b[0;31m---------------------------------------------------------------------------\u001b[0m",
      "\u001b[0;31mNameError\u001b[0m                                 Traceback (most recent call last)",
      "Cell \u001b[0;32mIn[45], line 7\u001b[0m\n\u001b[1;32m      5\u001b[0m plt\u001b[38;5;241m.\u001b[39mgrid(\u001b[38;5;28;01mTrue\u001b[39;00m)\n\u001b[1;32m      6\u001b[0m plt\u001b[38;5;241m.\u001b[39mplot(xx,yy1)\n\u001b[0;32m----> 7\u001b[0m plt\u001b[38;5;241m.\u001b[39mscatter(x1,yy1[\u001b[38;5;241m0\u001b[39m])\n",
      "\u001b[0;31mNameError\u001b[0m: name 'x1' is not defined"
     ]
    },
    {
     "data": {
      "image/png": "[encoded data removed]",
      "text/plain": [
       "<Figure size 640x480 with 1 Axes>"
      ]
     },
     "metadata": {},
     "output_type": "display_data"
    }
   ],
   "source": [
    "xx = np.linspace(0,10,100)\n",
    "yy1 = np.ones(100)*1.105410\n",
    "\n",
    "\n",
    "plt.grid(True)\n",
    "plt.plot(xx,yy1)\n",
    "plt.scatter(x1,yy1[0])"
   ]
  },
  {
   "cell_type": "code",
   "execution_count": null,
   "id": "3e10e2fc-8948-4345-bf15-6596b9d8f843",
   "metadata": {},
   "outputs": [],
   "source": [
    "xx = np.linspace(0,10,100)\n",
    "yy2 = L2(xx)\n",
    "\n",
    "x2 = [x[0],x[1]]\n",
    "y2 = [y[0],y[1]]\n",
    "\n",
    "plt.grid(True)\n",
    "plt.plot(xx,yy2)\n",
    "plt.scatter(x2,y2)"
   ]
  },
  {
   "cell_type": "code",
   "execution_count": 40,
   "id": "551dd7b2-4a33-45bd-a2f1-2cc6dc5ff745",
   "metadata": {},
   "outputs": [
    {
     "ename": "NameError",
     "evalue": "name 'L3' is not defined",
     "output_type": "error",
     "traceback": [
      "\u001b[0;31m---------------------------------------------------------------------------\u001b[0m",
      "\u001b[0;31mNameError\u001b[0m                                 Traceback (most recent call last)",
      "Cell \u001b[0;32mIn[40], line 2\u001b[0m\n\u001b[1;32m      1\u001b[0m xx \u001b[38;5;241m=\u001b[39m np\u001b[38;5;241m.\u001b[39mlinspace(\u001b[38;5;241m0\u001b[39m,\u001b[38;5;241m10\u001b[39m,\u001b[38;5;241m100\u001b[39m)\n\u001b[0;32m----> 2\u001b[0m yy3 \u001b[38;5;241m=\u001b[39m L3(xx)\n\u001b[1;32m      4\u001b[0m x3 \u001b[38;5;241m=\u001b[39m [x[\u001b[38;5;241m0\u001b[39m],x[\u001b[38;5;241m1\u001b[39m],x[\u001b[38;5;241m2\u001b[39m]]\n\u001b[1;32m      5\u001b[0m y3 \u001b[38;5;241m=\u001b[39m [y[\u001b[38;5;241m0\u001b[39m],y[\u001b[38;5;241m1\u001b[39m],y[\u001b[38;5;241m2\u001b[39m]]\n",
      "\u001b[0;31mNameError\u001b[0m: name 'L3' is not defined"
     ]
    }
   ],
   "source": [
    "xx = np.linspace(0,10,100)\n",
    "yy3 = L3(xx)\n",
    "\n",
    "x3 = [x[0],x[1],x[2]]\n",
    "y3 = [y[0],y[1],y[2]]\n",
    "\n",
    "plt.grid(True)\n",
    "plt.plot(xx,yy3)\n",
    "plt.scatter(x3,y3)"
   ]
  },
  {
   "cell_type": "code",
   "execution_count": null,
   "id": "d19f52d4-4849-41e2-bcac-68fb07cd95cf",
   "metadata": {},
   "outputs": [],
   "source": [
    "xx = np.linspace(0,10,100)\n",
    "yy4 = L4(xx)\n",
    "\n",
    "x4 = [x[0],x[1],x[2],x[3]]\n",
    "y4 = [y[0],y[1],y[2],x[3]]\n",
    "\n",
    "plt.grid(True)\n",
    "plt.plot(xx,yy4)\n",
    "plt.scatter(x4,y4)"
   ]
  },
  {
   "cell_type": "code",
   "execution_count": null,
   "id": "a6112968-a3f8-423d-bcbc-64795f08c037",
   "metadata": {},
   "outputs": [],
   "source": [
    "xx = np.linspace(0,10,100)\n",
    "yy5 = L5(xx)\n",
    "\n",
    "x5 = [x[0],x[1],x[2],x[3],x[4]]\n",
    "y5 = [y[0],y[1],y[2],y[3],y[4]]\n",
    "\n",
    "plt.grid(True)\n",
    "plt.plot(xx,yy5)\n",
    "plt.scatter(x5,y5)"
   ]
  },
  {
   "cell_type": "code",
   "execution_count": null,
   "id": "710f4a55-4a45-4d61-9a01-b6c14befa910",
   "metadata": {},
   "outputs": [],
   "source": [
    "axes = [yy1,yy2,yy3,yy4,yy5]"
   ]
  },
  {
   "cell_type": "code",
   "execution_count": null,
   "id": "97c660df-c910-498a-89b8-00a6ea9827f1",
   "metadata": {},
   "outputs": [],
   "source": [
    "xx = np.linspace(0,10,100)\n",
    "\n",
    "plt.grid(True)\n",
    "plt.scatter(x5,y5)\n",
    "for i in axes:\n",
    "    plt.plot(xx,i)\n",
    "\n",
    "plt.show()"
   ]
  }
 ],
 "metadata": {
  "kernelspec": {
   "display_name": "Python 3 (ipykernel)",
   "language": "python",
   "name": "python3"
  },
  "language_info": {
   "codemirror_mode": {
    "name": "ipython",
    "version": 3
   },
   "file_extension": ".py",
   "mimetype": "text/x-python",
   "name": "python",
   "nbconvert_exporter": "python",
   "pygments_lexer": "ipython3",
   "version": "3.12.4"
  }
 },
 "nbformat": 4,
 "nbformat_minor": 5
}
